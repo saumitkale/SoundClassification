{
  "cells": [
    {
      "cell_type": "code",
      "execution_count": null,
      "metadata": {
        "id": "HmT7z9Wh7s-n"
      },
      "outputs": [],
      "source": [
        "import torch\n",
        "import torchvision\n",
        "import torch.nn as nn\n",
        "import torch.optim as optim\n",
        "import torchvision.transforms as transforms\n",
        "import matplotlib.pyplot as plt"
      ]
    },
    {
      "cell_type": "code",
      "execution_count": null,
      "metadata": {
        "id": "fw1hweGv9Pga"
      },
      "outputs": [],
      "source": [
        "train = torchvision.datasets.CIFAR10(root = '. /data', train = True, download = True, transform = transforms.ToTensor())\n",
        "train\n",
        "test = torchvision.datasets.CIFAR10(root = '. /data', train = False, download = True, transform = transforms.ToTensor())\n",
        "test"
      ]
    },
    {
      "cell_type": "code",
      "execution_count": null,
      "metadata": {
        "id": "GLGM7whE_h_X"
      },
      "outputs": [],
      "source": [
        "labels = [item[1] for item in train]\n",
        "num_classes = len(set(labels))\n",
        "num_classes\n"
      ]
    },
    {
      "cell_type": "code",
      "execution_count": null,
      "metadata": {
        "id": "EpFJjwBFBkJl"
      },
      "outputs": [],
      "source": [
        "image, label = train[67]\n",
        "print('Shape: ', image.shape, '\\nLabel: ', label)\n",
        "\n"
      ]
    },
    {
      "cell_type": "code",
      "execution_count": null,
      "metadata": {
        "id": "Lc6QNFaMEY6v"
      },
      "outputs": [],
      "source": [
        "plt.imshow(image.T, interpolation = 'bicubic')\n"
      ]
    },
    {
      "cell_type": "code",
      "execution_count": null,
      "metadata": {
        "id": "OkUkiDL0FV3e"
      },
      "outputs": [],
      "source": [
        "train_loader = torch.utils.data.DataLoader(train, batch_size=100,shuffle=True)\n",
        "test_loader = torch.utils.data.DataLoader(test, batch_size=100,shuffle=True)\n",
        "\n",
        "\n"
      ]
    },
    {
      "cell_type": "code",
      "execution_count": null,
      "metadata": {
        "id": "FaQxTPKpHy7D"
      },
      "outputs": [],
      "source": [
        "#Neural Network\n",
        "\n",
        "class ANN(nn.Module):\n",
        "  def __init__(self,input_size, hidden_size1, hidden_size2, num_classes):\n",
        "    super(ANN,self).__init__()\n",
        "    self.fc1 = nn.Linear(input_size, hidden_size1, bias = True)\n",
        "    self.relu1 = nn.ReLU()\n",
        "    self.fc2 = nn.Linear(hidden_size1, hidden_size2, bias = True)\n",
        "    self.relu2 = nn.ReLU()\n",
        "    self.output = nn.Linear(hidden_size2, num_classes, bias = True)\n",
        "\n",
        "  def forward(self,x):\n",
        "    data = x.view(x.size(0), -1)\n",
        "    data = self.fc1(data)\n",
        "    data = self.relu1(data)\n",
        "    data = self.fc2(data)\n",
        "    data = self.relu2(data)\n",
        "    data = self.output(data)\n",
        "    return data"
      ]
    },
    {
      "cell_type": "code",
      "execution_count": null,
      "metadata": {
        "id": "VVhWfs9rMr16"
      },
      "outputs": [],
      "source": [
        "x = torch.randn(2,3,4)\n",
        "out = x.view(x.size(0),-1)\n",
        "print(x.shape)\n",
        "print(out.shape)"
      ]
    },
    {
      "cell_type": "code",
      "execution_count": null,
      "metadata": {
        "id": "q98tKC8oM5dk"
      },
      "outputs": [],
      "source": [
        "input_size = 3 * 32* 32\n",
        "hidden_size1 = 120\n",
        "hidden_size2 = 100\n",
        "num_classes = 10\n",
        "\n",
        "model = ANN(input_size,hidden_size1, hidden_size2, num_classes)"
      ]
    },
    {
      "cell_type": "code",
      "execution_count": null,
      "metadata": {
        "id": "zPuzP7vqNiRZ"
      },
      "outputs": [],
      "source": [
        "criterion = nn.CrossEntropyLoss()\n",
        "optimizer = optim.SGD(model.parameters(), lr = 0.01)\n"
      ]
    },
    {
      "cell_type": "code",
      "execution_count": null,
      "metadata": {
        "colab": {
          "background_save": true
        },
        "id": "a7ATm3xrazld"
      },
      "outputs": [],
      "source": [
        "#Training\n",
        "\n",
        "loss_list = []\n",
        "accuracy_list = []\n",
        "\n",
        "for epoch in range(100):\n",
        "  epoch_loss = 0;\n",
        "  for images,labels in train_loader:\n",
        "    outputs = model(images)\n",
        "    loss = criterion(outputs,labels)\n",
        "\n",
        "    optimizer.zero_grad()\n",
        "    loss.backward()\n",
        "    optimizer.step()\n",
        "\n",
        "    epoch_loss += loss.item()\n",
        "\n",
        "  loss_list.append(epoch_loss/len(train_loader))\n",
        "\n",
        "  with torch.no_grad():\n",
        "    correct = 0;\n",
        "    total = 0;\n",
        "    for images,labels in train_loader:\n",
        "      outputs = model(images)\n",
        "      _,predicted = torch.max(outputs.data,1)\n",
        "      total += labels.size(0)\n",
        "      correct += (predicted == labels).sum().item()\n",
        "      accuracy = correct/total\n",
        "      accuracy_list.append(accuracy)\n",
        "\n",
        "    print('Epoch [{}/100] Training Accuracy: {:.4f}'.format(epoch + 1, correct/total), 'Loss: {:.4f}'.format(loss_list[-1]))\n",
        "\n",
        "\n",
        "\n",
        "\n",
        "\n",
        "\n",
        "\n",
        "\n"
      ]
    },
    {
      "cell_type": "code",
      "execution_count": null,
      "metadata": {
        "id": "yUY6SS_lhN_7"
      },
      "outputs": [],
      "source": [
        "x = range(100)\n",
        "plt.plot(x,loss_list)\n",
        "plt.xlabel('Iteration')\n",
        "plt.ylabel('Loss')\n",
        "plt.show()\n",
        "\n"
      ]
    },
    {
      "cell_type": "code",
      "execution_count": null,
      "metadata": {
        "id": "MLtHiXV7nsJY"
      },
      "outputs": [],
      "source": [
        "#Testing\n",
        "\n",
        "with torch.no_grad():\n",
        "  correct = 0\n",
        "  total = 0\n",
        "\n",
        "  for images, labels in test_loader:\n",
        "    pred_outputs = model(images)\n",
        "    _,predicted = torch.max(pred_outputs.data,1)\n",
        "    total += labels.size(0);\n",
        "    correct += (predicted == labels).sum().item()\n",
        "\n",
        "  print('Test Accuracy: {:.4f}'.format(correct/total))\n",
        "  print('Test Accuracy Percentage: {:.4f}'.format(correct/total * 100))\n",
        "\n",
        "\n",
        "\n"
      ]
    },
    {
      "cell_type": "code",
      "execution_count": null,
      "metadata": {
        "id": "c-jFuI9Xq-dG"
      },
      "outputs": [],
      "source": [
        "#Confusion Matrix\n",
        "\n",
        "from sklearn.metrics import confusion_matrix\n",
        "\n",
        "model.eval()\n",
        "with torch.no_grad():\n",
        "  correct = 0\n",
        "  total = 0\n",
        "  confusion_matrix = torch.zeros(10,10)\n",
        "  for images,labels in test_loader:\n",
        "    outputs = model(images)\n",
        "    _,predicted = torch.max(outputs.data,1)\n",
        "    total += labels.size(0)\n",
        "    correct += (predicted == labels).sum().item()\n",
        "    for i,j in zip(predicted,labels):\n",
        "      confusion_matrix[i][j] += 1\n",
        "confusion_matrix = confusion_matrix.numpy().astype(int)\n",
        "print('Confusion Matrix')\n",
        "print(confusion_matrix)"
      ]
    },
    {
      "cell_type": "code",
      "execution_count": null,
      "metadata": {
        "id": "d6nFwJ6vtl8a"
      },
      "outputs": [],
      "source": [
        "#Prediciton\n",
        "\n",
        "import torch\n",
        "import torchvision.transforms as transforms\n",
        "from PIL import Image\n",
        "import requests\n",
        "from io import BytesIO\n",
        "\n",
        "url = 'https://www.marineinsight.com/wp-content/uploads/2019/08/Cruise-ships-1.png.webp'\n",
        "response = requests.get(url)\n",
        "image = Image.open(BytesIO(response.content))\n",
        "\n",
        "transform = transforms.Compose([\n",
        "    transforms.Resize((32,32)),\n",
        "    transforms.ToTensor(),\n",
        "    transforms.Normalize(mean=[0.485, 0.456, 0.406], std=[0.229, 0.224, 0.225])\n",
        "])\n",
        "\n",
        "plt.imshow(image)\n",
        "plt.axis('off')\n",
        "plt.show()\n",
        "\n",
        "tensor = transform(image).unsqueeze(0)\n",
        "output = model(tensor)\n",
        "\n",
        "_,predicted = torch.max(output.data,1)\n",
        "predicted_class = predicted.item()\n",
        "dict = {0:\"Airplane\",1:\"Automobile\",2:\"Bird\",3:\"Cat\",4:\"Deer\",5:\"Dog\",6:\"Frog\",7:\"Horse\",8:\"Ship\",9:\"Truck\"}\n",
        "print(\"This image is a\", dict.get(predicted_class))"
      ]
    }
  ],
  "metadata": {
    "colab": {
      "provenance": []
    },
    "kernelspec": {
      "display_name": "Python 3",
      "name": "python3"
    },
    "language_info": {
      "name": "python"
    }
  },
  "nbformat": 4,
  "nbformat_minor": 0
}